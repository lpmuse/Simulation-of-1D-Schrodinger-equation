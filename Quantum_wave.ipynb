{
 "cells": [
  {
   "cell_type": "code",
   "execution_count": null,
   "metadata": {},
   "outputs": [
    {
     "data": {
      "text/plain": [
       "\"done\""
      ]
     },
     "metadata": {},
     "output_type": "display_data"
    }
   ],
   "source": [
    "# This code solves of time-dependent one-dimensional Schrödinger Equation\n",
    "# with finite difference Crank-Nicolson method for Gaussian wave packet.\n",
    "# The real and imaginary parts of the wave function are shown on a complex plane.\n",
    "\n",
    "using GLMakie\n",
    "using LinearAlgebra\n",
    "using SpecialFunctions\n",
    "\n",
    "function AB(V)\n",
    "    \"\"\"\n",
    "        Create arrays for the Crank-Nicolson method\n",
    "    \"\"\"\n",
    "    ones_arr = ones(ComplexF64,stepX-1)\n",
    "    d = im*λ.-Δx^2*V.-2\n",
    "    A = Tridiagonal(ones_arr,d,ones_arr)\n",
    "    d = im*λ.+Δx^2*V.+2\n",
    "    B = Tridiagonal(-ones_arr,d,-ones_arr)\n",
    "    A,B\n",
    "end\n",
    "\n",
    "# define constants\n",
    "k₀ = 100*π # proportinal to the moment of wave\n",
    "σ₀ = 0.05 # wave's width\n",
    "x₀ = 0.8 # wave's middle point\n",
    "stepX = 10000 # x-axis grid density\n",
    "Δt = 1.0e-6 # time step\n",
    "L = 2.0 # length of the simulation box\n",
    "Δx = L/stepX # x-axis step\n",
    "λ = 2*Δx^2/Δt # intermediate constant\n",
    "x = range(0,L,stepX) |> collect # x-axis array\n",
    "\n",
    "file_path = \"C:/Users/animation.mp4\" # choose path to save animation"
   ]
  },
  {
   "cell_type": "code",
   "execution_count": null,
   "metadata": {},
   "outputs": [],
   "source": [
    "# Test calculation for the initial state\n",
    "Ψ₀ = exp.(im*k₀*x).*exp.(-(x.-x₀).^2/2/σ₀^2) # Gaussian wave-packet\n",
    "ρ₀ = abs2.(Ψ₀) # probability distribution function\n",
    "f1 = Figure()\n",
    "ax = Axis(f1[1,1])\n",
    "lines!(x,ρ₀)\n",
    "f1"
   ]
  },
  {
   "cell_type": "code",
   "execution_count": null,
   "metadata": {},
   "outputs": [],
   "source": [
    "# Define potentials\n",
    "\n",
    "V = zeros(stepX)\n",
    "######## Borders to reflect wave function from edges\n",
    "V[1:500] = [5e6*exp(-200xᵢ) for xᵢ ∈ x[1:500]]\n",
    "V[9500:end] = [5e6*exp(200(xᵢ-2.0)) for xᵢ ∈ x[9500:end]]\n",
    "########\n",
    "\n",
    "# different types of the potential\n",
    "\n",
    "######## single wall/well\n",
    "# V[4400:5600] +.= -k₀^2 # box\n",
    "########\n",
    "\n",
    "######## double wall/well\n",
    "# V[3750-600:3750+600] .-= k₀^2\n",
    "# V[6250-600:6250+600] .-= k₀^2\n",
    "########\n",
    "\n",
    "######## harmonic oscillator\n",
    "V .+= [2.5e5*(xᵢ-1.0)^2 for xᵢ ∈ x]\n",
    "########\n",
    "\n",
    "######## \"delta\" function\n",
    "# V[5000] .+= 1e6\n",
    "########\n",
    "\n",
    "######## gravitation-like\n",
    "# V .+= [7e4*xᵢ for xᵢ ∈ x]\n",
    "########\n",
    "\n",
    "\n",
    "######## Bessel function\n",
    "# V .+= 1.5e5*besselj.(1.0,15x)\n",
    "########\n",
    "\n",
    "draw_V = V/k₀^2 # for depicting potential curve on the graph\n",
    "\n",
    "A,B = AB(V) # create arrays for the Crank-Nicolson method\n",
    "Ψ₀ = exp.(im*k₀*x).*exp.(-(x.-x₀).^2/2/σ₀^2) # initialize wave function\n",
    "\n",
    "# setup the graph, real part and imaginary parts of wave function plotted on Y and Z axes, respectively\n",
    "fig, ax, l1 = lines(x, real(Ψ₀), imag(Ψ₀), linewidth = 3; figure = (; size = (1920, 1080)),\n",
    "                    axis = (type = Axis3, xlabel=\"Distance\", ylabel=\"Re(Ψ)\", zlabel=\"Im(Ψ)\",\n",
    "                            xlabelsize = 28, ylabelsize = 28, zlabelsize = 28,\n",
    "                            aspect = (3,1,1), azimuth = 245*π/180, elevation=15*π/180, protrusions=(70,10,5,5),\n",
    "                            limits = (nothing, nothing, -1.1, 1.1, -1.1, 1.1)))\n",
    "l2 = lines!(ax,x,ones(stepX),abs2.(Ψ₀)) # plot probability density funtion\n",
    "l3 = lines!(ax,x,ones(stepX),draw_V) # plot potential curve\n",
    "axislegend(ax, [l1, l2, l3], [\"Ψ\", \"|Ψ|²\", \"V(x), a.u.\"], framevisible = false, position = :lt, labelsize = 28)\n",
    "record(fig, file_path, range(0,1000); framerate = 60) do i # iterates over all frames, and save animation\n",
    "    Ψ = A\\(B*Ψ₀) # solve the Crank-Nicolson method\n",
    "    global Ψ₀ = Ψ\n",
    "    l1[2] = real(Ψ₀)\n",
    "    l1[3] = imag(Ψ₀)\n",
    "    l2[3] = abs2.(Ψ₀) # update probability density funtion\n",
    "end"
   ]
  }
 ],
 "metadata": {
  "kernelspec": {
   "display_name": "Julia 1.10.0",
   "language": "julia",
   "name": "julia-1.10"
  },
  "language_info": {
   "file_extension": ".jl",
   "mimetype": "application/julia",
   "name": "julia",
   "version": "1.10.0"
  }
 },
 "nbformat": 4,
 "nbformat_minor": 2
}
